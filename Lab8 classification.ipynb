{
 "cells": [
  {
   "cell_type": "code",
   "execution_count": 0,
   "metadata": {
    "colab": {},
    "colab_type": "code",
    "id": "6Ka5eelyIgAq"
   },
   "outputs": [],
   "source": [
    "from google.colab import drive\n",
    "drive.mount('/content/gdrive')"
   ]
  },
  {
   "cell_type": "code",
   "execution_count": 0,
   "metadata": {
    "colab": {},
    "colab_type": "code",
    "id": "GYK9bj9wIqI3"
   },
   "outputs": [],
   "source": [
    "!pip install pretrainedmodels\n",
    "!pip install torch_optimizer"
   ]
  },
  {
   "cell_type": "code",
   "execution_count": 0,
   "metadata": {
    "colab": {},
    "colab_type": "code",
    "id": "eJEVa7IRIs7C"
   },
   "outputs": [],
   "source": [
    "import os\n",
    "import numpy as np \n",
    "import pandas as pd \n",
    "import glob\n",
    "import cv2\n",
    "import matplotlib.pyplot as plt\n",
    "%matplotlib inline\n",
    "\n",
    "from imgaug import augmenters as iaa\n",
    "\n",
    "from sklearn.model_selection import train_test_split\n",
    "\n",
    "from torch.utils.data import Dataset, DataLoader\n",
    "from torchvision import transforms\n",
    "\n",
    "import torch.nn as nn\n",
    "import torch.nn.functional as F\n",
    "import torch\n",
    "import torch.optim as optim\n",
    "import torch_optimizer as optim1\n",
    "\n",
    "import pretrainedmodels\n",
    "from pretrainedmodels import resnet50\n",
    "from pretrainedmodels.models import resnext101_32x4d as ResNext50\n",
    "from pretrainedmodels.models import senet154 as SeNet\n",
    "\n",
    "from tqdm import tqdm_notebook as tqdm"
   ]
  },
  {
   "cell_type": "code",
   "execution_count": 0,
   "metadata": {
    "colab": {},
    "colab_type": "code",
    "id": "7jfiH30zIvpk"
   },
   "outputs": [],
   "source": [
    "device = torch.device(\"cuda:0\" if torch.cuda.is_available() else \"cpu\")\n",
    "print(device)"
   ]
  },
  {
   "cell_type": "code",
   "execution_count": 0,
   "metadata": {
    "colab": {},
    "colab_type": "code",
    "id": "kfca19YrIzoD"
   },
   "outputs": [],
   "source": [
    "train_paths = glob.glob('/content/gdrive/My Drive/Kaggle/224-224-cervical-cancer-screening/kaggle/train/train/*/*.jpg')\n",
    "test_paths = glob.glob('/content/gdrive/My Drive/Kaggle/224-224-cervical-cancer-screening/kaggle/test_stg2/*.jpg') \n",
    "# validation_paths = glob.glob('/content/gdrive/My Drive/Kaggle/224-224-cervical-cancer-screening/kaggle/validation/validation/*/*.jpg')\n",
    "train_paths, validation_paths = train_test_split(train_paths, test_size=0.1, random_state=2018)\n",
    "print(len(test_paths))"
   ]
  },
  {
   "cell_type": "code",
   "execution_count": 0,
   "metadata": {
    "colab": {},
    "colab_type": "code",
    "id": "u2MkM1aTI2p6"
   },
   "outputs": [],
   "source": [
    "sometimes = lambda aug: iaa.Sometimes(0.5, aug)\n",
    "seq = iaa.Sequential([\n",
    "                        sometimes(iaa.ElasticTransformation(alpha=(0, 10), sigma=10)),\n",
    "                        sometimes(iaa.Affine(translate_px=(-30, 30), rotate=(-120, 120), cval=0)),\n",
    "                        sometimes(iaa.Crop(percent=(0, 0.1))),\n",
    "                        sometimes(iaa.PiecewiseAffine(scale=(0.01, 0.05)))],\n",
    "            # do all of the above augmentations in random order\n",
    "            random_order=True)\n",
    "\n",
    "class MCCSDataset(Dataset):\n",
    "        def __init__(self, paths, train=True, transform=None, size=256):\n",
    "            super(MCCSDataset, self).__init__()\n",
    "            self.paths = paths\n",
    "            self.train = train\n",
    "            self.size = size\n",
    "            self.transform = transform\n",
    "\n",
    "        def __getitem__(self, idx):\n",
    "            path = self.paths[idx]\n",
    "            label = path.split('/')[-2].split('_')[-1]\n",
    "                \n",
    "            img = plt.imread(path)\n",
    "                        \n",
    "            if self.train:\n",
    "                img = seq.augment_image(img)\n",
    "\n",
    "            if self.transform:\n",
    "                img = transforms.ToPILImage()(img)\n",
    "                img = self.transform(img)\n",
    "            y_one_encode = torch.zeros(3)\n",
    "            y_one_encode[int(label) -1] = 1.\n",
    "\n",
    "            return img, y_one_encode\n",
    "\n",
    "        def __len__(self):\n",
    "            return len(self.paths)"
   ]
  },
  {
   "cell_type": "code",
   "execution_count": 0,
   "metadata": {
    "colab": {},
    "colab_type": "code",
    "id": "lYNPEmJFI5lf"
   },
   "outputs": [],
   "source": [
    "class LeNet(nn.Module):\n",
    "\n",
    "#image size : 224X224X3\n",
    "    #dim_after_conv = input_size -(filter_zise - 1)\n",
    "    #dim_after_max_pool = input_size /2 \n",
    "\n",
    "    # size of input image :  224x224X3\n",
    "    # after first conv2d : 224 - (5 -1) = 220, #224 - (5 -1) = 220\n",
    "    # img size : 220x220x6\n",
    "\n",
    "    # after max_pool :220/2 = 110 , #220/2= 110\n",
    "    # img size = 110x110x6\n",
    "\n",
    "    #after 2nd conv2d : 110 - (5-1) = 106 , #110- (5-1) = 106\n",
    "    #img size : 106x106x16\n",
    "\n",
    "    # after max_pool :106/2= 53, #106/2= 53\n",
    "    # img size = 53x53x16\n",
    "\n",
    "    def __init__(self):\n",
    "        super(LeNet, self).__init__()\n",
    "        self.conv1 = nn.Conv2d(3, 6, 5)\n",
    "        self.conv2 = nn.Conv2d(6, 16, 5)\n",
    "        self.fc1   = nn.Linear(53*53*16, 120)\n",
    "        self.fc2   = nn.Linear(120, 84)\n",
    "        self.fc3   = nn.Linear(84, 3)\n",
    "        \n",
    "    def forward(self, x):\n",
    "        x = F.max_pool2d(F.relu(self.conv1(x.float())), 2)\n",
    "        x = F.max_pool2d(F.relu(self.conv2(x)), 2)\n",
    "        x = x.view(x.shape[0], -1)\n",
    "        x = F.relu(self.fc1(x))\n",
    "        x = F.relu(self.fc2(x))\n",
    "        x = self.fc3(x)\n",
    "        y = F.softmax(x, dim=1).double()\n",
    "        return y"
   ]
  },
  {
   "cell_type": "code",
   "execution_count": 0,
   "metadata": {
    "colab": {},
    "colab_type": "code",
    "id": "wenZ-DCxI-hK"
   },
   "outputs": [],
   "source": [
    "BS = 64\n",
    "train_transforms = transforms.Compose([ \n",
    "                                        transforms.RandomHorizontalFlip(),\n",
    "                                        transforms.RandomRotation((-120, 120)),\n",
    "                                        transforms.ToTensor(),\n",
    "                                        transforms.Normalize([0.485, 0.456, 0.406], [0.229, 0.224, 0.225])])\n",
    "test_transforms = transforms.Compose([\n",
    "                                        transforms.ToTensor(),\n",
    "                                        transforms.Normalize([0.485, 0.456, 0.406], [0.229, 0.224, 0.225])])\n",
    "\n",
    "trainset = MCCSDataset(train_paths, transform=train_transforms, train=True)\n",
    "valset = MCCSDataset(validation_paths, transform=test_transforms, train=False)\n",
    "train_loader = DataLoader(trainset, batch_size=BS, shuffle=True, num_workers=4)\n",
    "val_loader = DataLoader(valset, batch_size=BS, shuffle=False, num_workers=4)"
   ]
  },
  {
   "cell_type": "code",
   "execution_count": 0,
   "metadata": {
    "colab": {},
    "colab_type": "code",
    "id": "wSW-rI4HJAKd"
   },
   "outputs": [],
   "source": [
    "def norm(img):\n",
    "    img -=img.min()\n",
    "    img/=img.max()\n",
    "    return img\n",
    "\n",
    "def optimizers(model, option, lr=0.01, wd=1e-5): \n",
    "    optimizer = {\n",
    "                    'sgd': optim.SGD(model.parameters(), lr=lr),\n",
    "                    'adam': optim.Adam(model.parameters(), lr=lr, weight_decay=wd),\n",
    "                    'radam': optim1.RAdam(model.parameters(), weight_decay=wd)}\n",
    "    \n",
    "    return optimizer[option]\n",
    "\n",
    "def train_loop(train_dataloader, validation_dataloader, epochs, model, loss_function, optimizer):\n",
    "    model_estimation_parameters = {\n",
    "                                    'train_loss': [],\n",
    "                                    'train_accuracy': [],\n",
    "                                   'validition_loss': [],\n",
    "                                   'validition_accuracy': []\n",
    "    }\n",
    "    scheduler = optim.lr_scheduler.StepLR(optimizer, step_size=epochs//4, gamma=0.1)\n",
    "    loss = loss_function()\n",
    "    loss.to(device)\n",
    "    from tqdm import tqdm_notebook as tqdm\n",
    "    for epoch in range(epochs):\n",
    "        batch_estimation = np.zeros(2)\n",
    "        for batch in tqdm(train_dataloader):\n",
    "            xt , yt = batch[0].to(device), batch[1].to(device)\n",
    "            optimizer.zero_grad()\n",
    "            output = model(xt)\n",
    "            train_loss = loss(output.double(), yt.double())\n",
    "            train_loss.backward()\n",
    "            optimizer.step()\n",
    "            batch_estimation[0] += evaluate(output, yt)\n",
    "            batch_estimation[1] += train_loss.item()\n",
    "\n",
    "        batch_estimation = batch_estimation / len(train_dataloader)\n",
    "        print('Train performence: [%d, %5d] loss: %f, accuracy= %f' % (epoch, len(train_dataloader), batch_estimation[1], batch_estimation[0]*100))\n",
    "        model_estimation_parameters['train_loss'].append(batch_estimation[1])\n",
    "        model_estimation_parameters['train_accuracy'].append(batch_estimation[0])\n",
    "\n",
    "        with torch.no_grad():\n",
    "            batch_estimation = np.zeros(2)\n",
    "            for batch in validation_dataloader:\n",
    "                xv , yv = batch[0].to(device), batch[1].to(device)\n",
    "                optimizer.zero_grad()\n",
    "                output = model(xv)\n",
    "                val_loss = loss(output.double(), yv.double())\n",
    "                batch_estimation[0] += evaluate(output, yv)\n",
    "                batch_estimation[1] += train_loss.item()\n",
    "\n",
    "            batch_estimation = batch_estimation / len(validation_dataloader)\n",
    "            print('validation performence: [%d, %5d] loss: %f, accuracy= %f\\n' % (epoch, len(validation_dataloader), batch_estimation[1], batch_estimation[0]*100))\n",
    "            model_estimation_parameters['validition_loss'].append(batch_estimation[1])\n",
    "            model_estimation_parameters['validition_accuracy'].append(batch_estimation[0])\n",
    "\n",
    "        scheduler.step()\n",
    "    return model_estimation_parameters\n",
    "            \n",
    "def visualization(train_accuracy_list, train_loss_list):\n",
    "    plt.figure(figsize=(10, 10))\n",
    "    plt.subplot(1, 2, 1)\n",
    "    plt.plot(np.array(train_accuracy_list)*100)\n",
    "    plt.title('accuracy', fontsize=20)\n",
    "    plt.show()\n",
    "\n",
    "    plt.figure(figsize=(10, 10))\n",
    "    plt.subplot(1, 2, 2)\n",
    "    plt.plot(np.array(train_loss_list))\n",
    "    plt.title('loss', fontsize=20)\n",
    "    plt.show()\n",
    "\n",
    "def evaluate (y_pred, targets):\n",
    "    actual  = [torch.argmax(x) for x in targets] \n",
    "    prediction  = [torch.argmax(x) for x in y_pred]  \n",
    "    corrects = 0.0\n",
    "    for t, y in zip(actual, prediction):\n",
    "        if t == y:\n",
    "            corrects += 1.0\n",
    "    return corrects/ len(actual)"
   ]
  },
  {
   "cell_type": "code",
   "execution_count": 0,
   "metadata": {
    "colab": {},
    "colab_type": "code",
    "id": "IuKlqAn4JC9k"
   },
   "outputs": [],
   "source": [
    "lenet = LeNet()\n",
    "\n",
    "lenet.to(device)\n",
    "sgd = optimizers(lenet, 'sgd')\n",
    "adam = optimizers(lenet, 'adam', lr=1e-3)\n",
    "radam = optimizers(lenet, 'radam')\n",
    "\n",
    "epochs = 16\n",
    "dic = train_loop(train_loader, val_loader, epochs, lenet, nn.BCELoss, adam)\n",
    "train_accuracy_list, train_loss_list =dic['train_accuracy'], dic['train_loss']\n",
    "visualization(train_accuracy_list, train_loss_list)"
   ]
  },
  {
   "cell_type": "code",
   "execution_count": 0,
   "metadata": {
    "colab": {},
    "colab_type": "code",
    "id": "5tJsiU54JFxI"
   },
   "outputs": [],
   "source": [
    "def pretraineddmodels_trainig_loop(train_dataloader, validation_dataloader, epochs, model, loss_function, optimizer, adjust_layers):\n",
    "    scheduler = optim.lr_scheduler.StepLR(optimizer, step_size=epochs//4, gamma=0.1)\n",
    "    model_estimation_parameters = {\n",
    "                                        'train_loss': [],\n",
    "                                        'train_accuracy': [],\n",
    "                                    'validition_loss': [],\n",
    "                                    'validition_accuracy': []\n",
    "        }\n",
    "    loss = loss_function()\n",
    "    loss.to(device)\n",
    "    for epoch in tqdm(range(epochs)):\n",
    "        batch_estimation = np.zeros(2)\n",
    "        model.train()\n",
    "        for batch in train_dataloader:\n",
    "            xt , yt = batch[0].to(device), batch[1].to(device)\n",
    "            optimizer.zero_grad()\n",
    "            x = model.features(xt)\n",
    "            x = torch.functional.F.avg_pool2d(x, 7)\n",
    "            x = x.view(x.shape[0], -1)\n",
    "            train_output = adjust_layers(x)\n",
    "            train_loss = loss(train_output, yt)\n",
    "            train_loss.backward()\n",
    "            optimizer.step()\n",
    "            batch_estimation[0] += evaluate(train_output, yt)\n",
    "            batch_estimation[1] += train_loss.item()\n",
    "\n",
    "        batch_estimation = batch_estimation / len(train_dataloader)\n",
    "        print('Train performence: [%d, %5d] loss: %f, accuracy= %f' % (epoch, len(train_dataloader), batch_estimation[1], batch_estimation[0]*100))\n",
    "        model_estimation_parameters['train_loss'].append(batch_estimation[1])\n",
    "        model_estimation_parameters['train_accuracy'].append(batch_estimation[0])\n",
    "\n",
    "        model.eval()\n",
    "        with torch.no_grad():\n",
    "            batch_estimation = np.zeros(2)\n",
    "            for batch in validation_dataloader:\n",
    "                xv , yv = batch[0].to(device), batch[1].to(device)\n",
    "                x = model.features(xv)\n",
    "                x = torch.functional.F.avg_pool2d(x, 7)\n",
    "                x = x.view(x.shape[0], -1)\n",
    "                eval_output = adjust_layers(x)\n",
    "                eval_loss = loss(eval_output, yv)\n",
    "                batch_estimation[0] += evaluate(eval_output, yv)\n",
    "                batch_estimation[1] += eval_loss.item()\n",
    "                \n",
    "            print(batch_estimation)\n",
    "            batch_estimation = batch_estimation / len(validation_dataloader)\n",
    "            print(batch_estimation)\n",
    "\n",
    "            print('validation performence: [%d, %5d] loss: %f, accuracy= %f\\n' % (epoch, len(validation_dataloader), batch_estimation[1], batch_estimation[0]*100))\n",
    "            model_estimation_parameters['validition_loss'].append(batch_estimation[1])\n",
    "            model_estimation_parameters['validition_accuracy'].append(batch_estimation[0])\n",
    "        scheduler.step()\n",
    "    return model_estimation_parameters"
   ]
  },
  {
   "attachments": {
    "mccsd1.png": {
     "image/png": "[encoded data removed]"
    },
    "mccsd2.png": {
     "image/png": "[encoded data removed]"
    }
   },
   "cell_type": "markdown",
   "metadata": {},
   "source": [
    "![mccsd1.png](attachment:mccsd1.png)\n",
    "![mccsd2.png](attachment:mccsd2.png)"
   ]
  },
  {
   "cell_type": "code",
   "execution_count": 0,
   "metadata": {
    "colab": {},
    "colab_type": "code",
    "id": "_UnG9wneJN8A"
   },
   "outputs": [],
   "source": [
    "resnet = resnet50(num_classes=3, pretrained=None)"
   ]
  },
  {
   "cell_type": "code",
   "execution_count": 0,
   "metadata": {
    "colab": {},
    "colab_type": "code",
    "id": "iF8q6Ke5JRef"
   },
   "outputs": [],
   "source": [
    "torch.cuda.empty_cache()\n",
    "resnet.to(device)\n",
    "epochs = 16\n",
    "\n",
    "mylayers = torch.nn.Sequential(torch.nn.Linear(2048,64),\n",
    "                             torch.nn.ReLU(),\n",
    "                             torch.nn.Dropout(),\n",
    "                             torch.nn.Linear(64,3)).to(device)\n",
    "\n",
    "\n",
    "# sgd = optimizers(mylayers, 'sgd')\n",
    "adam = optimizers(mylayers, 'adam')\n",
    "# radam = optimizers(mylayers, 'radam', lr=1e-1)\n",
    "# scheduler = optim.lr_scheduler.StepLR(adam, step_size=epochs//4, gamma=0.1)\n",
    "\n",
    "dic = pretraineddmodels_trainig_loop(train_loader, val_loader,\n",
    "                                                                      epochs, resnet, nn.BCEWithLogitsLoss, adam, mylayers)\n",
    "train_accuracy_list, train_loss_list =dic['train_accuracy'], dic['train_loss']\n",
    "visualization(train_accuracy_list, train_loss_list)"
   ]
  },
  {
   "attachments": {
    "mccsd3.png": {
     "image/png": "[encoded data removed]"
    },
    "mccsd4.png": {
     "image/png": "[encoded data removed]"
    }
   },
   "cell_type": "markdown",
   "metadata": {},
   "source": [
    "![mccsd3.png](attachment:mccsd3.png)\n",
    "![mccsd4.png](attachment:mccsd4.png)"
   ]
  },
  {
   "cell_type": "code",
   "execution_count": 0,
   "metadata": {
    "colab": {},
    "colab_type": "code",
    "id": "JRPsQuiDJWBW"
   },
   "outputs": [],
   "source": [
    "import ssl\n",
    "ssl._create_default_https_context = ssl._create_unverified_context\n",
    "resnext = ResNext50()"
   ]
  },
  {
   "cell_type": "code",
   "execution_count": 0,
   "metadata": {
    "colab": {},
    "colab_type": "code",
    "id": "-947nzexJcLq"
   },
   "outputs": [],
   "source": [
    "torch.cuda.empty_cache()\n",
    "resnext.to(device)\n",
    "epochs = 16\n",
    "\n",
    "mylayers = torch.nn.Sequential(torch.nn.Linear(2048,64),\n",
    "                             torch.nn.ReLU(),\n",
    "                             torch.nn.Dropout(),\n",
    "                             torch.nn.Linear(64,3)).to(device)\n",
    "\n",
    "\n",
    "# sgd = optimizers(mylayers, 'sgd')\n",
    "adam = optimizers(mylayers, 'adam')\n",
    "# radam = optimizers(mylayers, 'radam', lr=1e-1)\n",
    "# scheduler = optim.lr_scheduler.StepLR(adam, step_size=epochs//4, gamma=0.1)\n",
    "\n",
    "dic = pretraineddmodels_trainig_loop(train_loader, val_loader,\n",
    "                                                                      epochs, resnext, nn.BCEWithLogitsLoss, adam, mylayers)\n",
    "train_accuracy_list, train_loss_list =dic['train_accuracy'], dic['train_loss']\n",
    "visualization(train_accuracy_list, train_loss_list)"
   ]
  },
  {
   "cell_type": "code",
   "execution_count": 0,
   "metadata": {
    "colab": {},
    "colab_type": "code",
    "id": "_teera6gJdXY"
   },
   "outputs": [],
   "source": [
    "def test_eval(model, pretrained=True):\n",
    "    _input = torch.from_numpy(np.array([plt.imread(x) for x in test_paths]))\n",
    "    if pretrained:\n",
    "        model.eval()\n",
    "    \n",
    "    y_pred = model(_input[:,np.newaxis, :, :].to(device))\n",
    "    y_pred = F.softmax(y_pred, dim=1).double()\n",
    "    print(y_pred)\n",
    "\n",
    "    # y_pred =[torch.argmax(x.detach().cpu()) for x in y_pred]\n",
    "    # y_pred = torch.stack(y_pred)"
   ]
  }
 ],
 "metadata": {
  "colab": {
   "name": "MCCSDs.ipynb",
   "provenance": []
  },
  "kernelspec": {
   "display_name": "Python 3",
   "language": "python",
   "name": "python3"
  },
  "language_info": {
   "codemirror_mode": {
    "name": "ipython",
    "version": 3
   },
   "file_extension": ".py",
   "mimetype": "text/x-python",
   "name": "python",
   "nbconvert_exporter": "python",
   "pygments_lexer": "ipython3",
   "version": "3.7.4"
  }
 },
 "nbformat": 4,
 "nbformat_minor": 1
}
